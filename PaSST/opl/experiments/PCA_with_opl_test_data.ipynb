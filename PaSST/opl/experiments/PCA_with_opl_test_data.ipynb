{
 "cells": [
  {
   "cell_type": "code",
   "execution_count": 1,
   "metadata": {},
   "outputs": [],
   "source": [
    "import torch \n",
    "import torch.nn as nn \n",
    "import numpy as np \n",
    "import pandas as pd \n",
    "import torch.nn.functional as F\n",
    "from sklearn.model_selection import train_test_split\n",
    "from sklearn.preprocessing import OneHotEncoder\n",
    "from sklearn.metrics import confusion_matrix, accuracy_score\n",
    "import copy \n",
    "import matplotlib.pyplot as plt \n",
    "import tqdm\n",
    "import ast \n",
    "import matplotlib.pyplot as plt\n",
    "from sklearn.decomposition import PCA"
   ]
  },
  {
   "cell_type": "code",
   "execution_count": 2,
   "metadata": {},
   "outputs": [],
   "source": [
    "label1 = 'street_traffic'\n",
    "label2 = 'street_pedestrian'\n",
    "label3 = 'tram'\n",
    "run_mode='scene'\n",
    "Block_number=11"
   ]
  },
  {
   "cell_type": "code",
   "execution_count": 3,
   "metadata": {},
   "outputs": [
    {
     "name": "stdout",
     "output_type": "stream",
     "text": [
      "199434\n"
     ]
    },
    {
     "data": {
      "text/plain": [
       "SceneClassifier(\n",
       "  (fc2): Linear(in_features=768, out_features=256, bias=True)\n",
       "  (fc3): Linear(in_features=256, out_features=10, bias=True)\n",
       ")"
      ]
     },
     "execution_count": 3,
     "metadata": {},
     "output_type": "execute_result"
    }
   ],
   "source": [
    "class SceneClassifier(nn.Module):\n",
    "    def __init__(self):\n",
    "        super(SceneClassifier, self).__init__()\n",
    "        self.fc2 = nn.Linear(768, 256)\n",
    "        self.fc3 = nn.Linear(256, 10)\n",
    "\n",
    "    def forward(self, x):\n",
    "        x = F.relu(self.fc2(x))\n",
    "        return x\n",
    "\n",
    "\n",
    "model = SceneClassifier()\n",
    "total_params = sum(p.numel() for p in model.parameters())\n",
    "print(total_params)\n",
    "model.eval()"
   ]
  },
  {
   "cell_type": "code",
   "execution_count": 4,
   "metadata": {},
   "outputs": [
    {
     "data": {
      "text/plain": [
       "SceneClassifier(\n",
       "  (fc2): Linear(in_features=768, out_features=256, bias=True)\n",
       "  (fc3): Linear(in_features=256, out_features=10, bias=True)\n",
       ")"
      ]
     },
     "execution_count": 4,
     "metadata": {},
     "output_type": "execute_result"
    }
   ],
   "source": [
    "model=torch.load(f'/Users/vayungoel/Desktop/opl/scene_maam_audioset/small_model_scene_{Block_number}_opl.pth',map_location=torch.device('cpu'))\n",
    "model"
   ]
  },
  {
   "cell_type": "code",
   "execution_count": 5,
   "metadata": {},
   "outputs": [
    {
     "data": {
      "text/plain": [
       "SceneClassifier(\n",
       "  (fc2): Linear(in_features=768, out_features=256, bias=True)\n",
       "  (fc3): Linear(in_features=256, out_features=10, bias=True)\n",
       ")"
      ]
     },
     "execution_count": 5,
     "metadata": {},
     "output_type": "execute_result"
    }
   ],
   "source": [
    "model.eval()"
   ]
  },
  {
   "cell_type": "code",
   "execution_count": 6,
   "metadata": {},
   "outputs": [
    {
     "data": {
      "text/plain": [
       "Parameter containing:\n",
       "tensor([[-0.0353, -0.0053, -0.0113,  ...,  0.0130, -0.0158, -0.0197],\n",
       "        [ 0.0621,  0.0037, -0.0170,  ...,  0.0459,  0.0271, -0.0859],\n",
       "        [-0.0620,  0.0425,  0.0554,  ..., -0.1631, -0.0051,  0.0418],\n",
       "        ...,\n",
       "        [-0.0339, -0.0108, -0.1211,  ...,  0.1431,  0.0147, -0.0134],\n",
       "        [ 0.0564,  0.0168, -0.0327,  ...,  0.0965, -0.0243,  0.0438],\n",
       "        [-0.0323, -0.0179, -0.0221,  ...,  0.0285,  0.0319, -0.0616]],\n",
       "       requires_grad=True)"
      ]
     },
     "execution_count": 6,
     "metadata": {},
     "output_type": "execute_result"
    }
   ],
   "source": [
    "model.fc2.weight"
   ]
  },
  {
   "cell_type": "code",
   "execution_count": 7,
   "metadata": {},
   "outputs": [],
   "source": [
    "data=pd.read_csv(\"/Users/vayungoel/Desktop/passt/final_hear21_embeddings_test_all_blocks.csv\")"
   ]
  },
  {
   "cell_type": "code",
   "execution_count": 8,
   "metadata": {},
   "outputs": [],
   "source": [
    "device = torch.device('cuda' if torch.cuda.is_available() else 'cpu')"
   ]
  },
  {
   "cell_type": "code",
   "execution_count": 9,
   "metadata": {},
   "outputs": [],
   "source": [
    "def train_ready(data,col_name):\n",
    "    new_list=[]\n",
    "    for i in range(len(data)):\n",
    "        temp_list=[]\n",
    "        x=data[col_name][i]\n",
    "        tensor_string = x\n",
    "\n",
    "# Extract the numbers part of the string\n",
    "        numbers_string = tensor_string.split(\"[[\")[1].split(\"]]\")[0]\n",
    "\n",
    "# Parse the string into a Python list\n",
    "        tensor_list = ast.literal_eval(\"[\" + numbers_string + \"]\")\n",
    "\n",
    "# Convert the list to a numpy array\n",
    "        numpy_array = np.array(tensor_list)\n",
    "        list_data=list(numpy_array)\n",
    "        \n",
    "        new_list.append(list_data)\n",
    "    return new_list"
   ]
  },
  {
   "cell_type": "code",
   "execution_count": 10,
   "metadata": {},
   "outputs": [
    {
     "name": "stdout",
     "output_type": "stream",
     "text": [
      "['airport', 'airport', 'airport', 'airport', 'airport', 'airport', 'airport', 'airport', 'airport', 'airport', 'airport', 'airport', 'airport', 'airport', 'airport', 'airport', 'airport', 'airport', 'airport', 'airport', 'airport', 'airport', 'airport', 'airport', 'airport', 'airport', 'airport', 'airport', 'airport', 'airport', 'airport', 'airport', 'airport', 'airport', 'airport', 'airport', 'airport', 'airport', 'airport', 'airport', 'airport', 'airport', 'airport', 'airport', 'airport', 'airport', 'airport', 'airport', 'airport', 'airport', 'airport', 'airport', 'airport', 'airport', 'airport', 'airport', 'airport', 'airport', 'airport', 'airport', 'airport', 'airport', 'airport', 'airport', 'airport', 'airport', 'airport', 'airport', 'airport', 'airport', 'airport', 'airport', 'airport', 'airport', 'airport', 'airport', 'airport', 'airport', 'airport', 'airport', 'airport', 'airport', 'airport', 'airport', 'airport', 'airport', 'airport', 'airport', 'airport', 'airport', 'airport', 'airport', 'airport', 'airport', 'airport', 'airport', 'airport', 'airport', 'airport', 'airport', 'airport', 'airport', 'airport', 'airport', 'airport', 'airport', 'airport', 'airport', 'airport', 'airport', 'airport', 'airport', 'airport', 'airport', 'airport', 'airport', 'airport', 'airport', 'airport', 'airport', 'airport', 'airport', 'airport', 'airport', 'airport', 'airport', 'airport', 'airport', 'airport', 'airport', 'airport', 'airport', 'airport', 'airport', 'airport', 'airport', 'airport', 'airport', 'airport', 'airport', 'airport', 'airport', 'airport', 'airport', 'airport', 'airport', 'airport', 'airport', 'airport', 'airport', 'airport', 'airport', 'airport', 'airport', 'airport', 'airport', 'airport', 'airport', 'airport', 'airport', 'airport', 'airport', 'airport', 'airport', 'airport', 'airport', 'airport', 'airport', 'airport', 'airport', 'airport', 'airport', 'airport', 'airport', 'airport', 'airport', 'airport', 'airport', 'airport', 'airport', 'airport', 'airport', 'airport', 'airport', 'airport', 'airport', 'airport', 'airport', 'airport', 'airport', 'airport', 'airport', 'airport', 'airport', 'airport', 'airport', 'airport', 'airport', 'airport', 'airport', 'airport', 'airport', 'airport', 'airport', 'airport', 'airport', 'airport', 'airport', 'airport', 'airport', 'airport', 'airport', 'airport', 'airport', 'airport', 'airport', 'airport', 'airport', 'airport', 'airport', 'airport', 'airport', 'airport', 'airport', 'airport', 'airport', 'airport', 'airport', 'airport', 'airport', 'airport', 'airport', 'airport', 'airport', 'airport', 'airport', 'airport', 'airport', 'airport', 'airport', 'airport', 'airport', 'airport', 'airport', 'airport', 'airport', 'airport', 'airport', 'airport', 'airport', 'airport', 'airport', 'airport', 'airport', 'airport', 'airport', 'airport', 'airport', 'airport', 'airport', 'airport', 'airport', 'airport', 'airport', 'airport', 'airport', 'airport', 'airport', 'airport', 'airport', 'airport', 'airport', 'airport', 'airport', 'airport', 'airport', 'airport', 'airport', 'airport', 'airport', 'airport', 'airport', 'airport', 'airport', 'airport', 'airport', 'airport', 'airport', 'airport', 'airport', 'airport', 'airport', 'airport', 'airport', 'airport', 'airport', 'bus', 'bus', 'bus', 'bus', 'bus', 'bus', 'bus', 'bus', 'bus', 'bus', 'bus', 'bus', 'bus', 'bus', 'bus', 'bus', 'bus', 'bus', 'bus', 'bus', 'bus', 'bus', 'bus', 'bus', 'bus', 'bus', 'bus', 'bus', 'bus', 'bus', 'bus', 'bus', 'bus', 'bus', 'bus', 'bus', 'bus', 'bus', 'bus', 'bus', 'bus', 'bus', 'bus', 'bus', 'bus', 'bus', 'bus', 'bus', 'bus', 'bus', 'bus', 'bus', 'bus', 'bus', 'bus', 'bus', 'bus', 'bus', 'bus', 'bus', 'bus', 'bus', 'bus', 'bus', 'bus', 'bus', 'bus', 'bus', 'bus', 'bus', 'bus', 'bus', 'bus', 'bus', 'bus', 'bus', 'bus', 'bus', 'bus', 'bus', 'bus', 'bus', 'bus', 'bus', 'bus', 'bus', 'bus', 'bus', 'bus', 'bus', 'bus', 'bus', 'bus', 'bus', 'bus', 'bus', 'bus', 'bus', 'bus', 'bus', 'bus', 'bus', 'bus', 'bus', 'bus', 'bus', 'bus', 'bus', 'bus', 'bus', 'bus', 'bus', 'bus', 'bus', 'bus', 'bus', 'bus', 'bus', 'bus', 'bus', 'bus', 'bus', 'bus', 'bus', 'bus', 'bus', 'bus', 'bus', 'bus', 'bus', 'bus', 'bus', 'bus', 'bus', 'bus', 'bus', 'bus', 'bus', 'bus', 'bus', 'bus', 'bus', 'bus', 'bus', 'bus', 'bus', 'bus', 'bus', 'bus', 'bus', 'bus', 'bus', 'bus', 'bus', 'bus', 'bus', 'bus', 'bus', 'bus', 'bus', 'bus', 'bus', 'bus', 'bus', 'bus', 'bus', 'bus', 'bus', 'bus', 'bus', 'bus', 'bus', 'bus', 'bus', 'bus', 'bus', 'bus', 'bus', 'bus', 'bus', 'bus', 'bus', 'bus', 'bus', 'bus', 'bus', 'bus', 'bus', 'bus', 'bus', 'bus', 'bus', 'bus', 'bus', 'bus', 'bus', 'bus', 'bus', 'bus', 'bus', 'bus', 'bus', 'bus', 'bus', 'bus', 'bus', 'bus', 'bus', 'bus', 'bus', 'bus', 'bus', 'bus', 'bus', 'bus', 'bus', 'bus', 'bus', 'bus', 'bus', 'bus', 'bus', 'bus', 'bus', 'bus', 'bus', 'bus', 'bus', 'bus', 'bus', 'bus', 'bus', 'bus', 'bus', 'bus', 'bus', 'bus', 'bus', 'bus', 'bus', 'bus', 'bus', 'bus', 'bus', 'bus', 'bus', 'bus', 'bus', 'bus', 'bus', 'bus', 'bus', 'bus', 'bus', 'bus', 'bus', 'bus', 'bus', 'bus', 'bus', 'bus', 'bus', 'bus', 'bus', 'bus', 'bus', 'bus', 'bus', 'bus', 'bus', 'bus', 'bus', 'bus', 'bus', 'bus', 'bus', 'bus', 'bus', 'bus', 'bus', 'bus', 'bus', 'bus', 'bus', 'bus', 'bus', 'bus', 'bus', 'bus', 'bus', 'bus', 'bus', 'bus', 'bus', 'bus', 'bus', 'bus', 'metro', 'metro', 'metro', 'metro', 'metro', 'metro', 'metro', 'metro', 'metro', 'metro', 'metro', 'metro', 'metro', 'metro', 'metro', 'metro', 'metro', 'metro', 'metro', 'metro', 'metro', 'metro', 'metro', 'metro', 'metro', 'metro', 'metro', 'metro', 'metro', 'metro', 'metro', 'metro', 'metro', 'metro', 'metro', 'metro', 'metro', 'metro', 'metro', 'metro', 'metro', 'metro', 'metro', 'metro', 'metro', 'metro', 'metro', 'metro', 'metro', 'metro', 'metro', 'metro', 'metro', 'metro', 'metro', 'metro', 'metro', 'metro', 'metro', 'metro', 'metro', 'metro', 'metro', 'metro', 'metro', 'metro', 'metro', 'metro', 'metro', 'metro', 'metro', 'metro', 'metro', 'metro', 'metro', 'metro', 'metro', 'metro', 'metro', 'metro', 'metro', 'metro', 'metro', 'metro', 'metro', 'metro', 'metro', 'metro', 'metro', 'metro', 'metro', 'metro', 'metro', 'metro', 'metro', 'metro', 'metro', 'metro', 'metro', 'metro', 'metro', 'metro', 'metro', 'metro', 'metro', 'metro', 'metro', 'metro', 'metro', 'metro', 'metro', 'metro', 'metro', 'metro', 'metro', 'metro', 'metro', 'metro', 'metro', 'metro', 'metro', 'metro', 'metro', 'metro', 'metro', 'metro', 'metro', 'metro', 'metro', 'metro', 'metro', 'metro', 'metro', 'metro', 'metro', 'metro', 'metro', 'metro', 'metro', 'metro', 'metro', 'metro', 'metro', 'metro', 'metro', 'metro', 'metro', 'metro', 'metro', 'metro', 'metro', 'metro', 'metro', 'metro', 'metro', 'metro', 'metro', 'metro', 'metro', 'metro', 'metro', 'metro', 'metro', 'metro', 'metro', 'metro', 'metro', 'metro', 'metro', 'metro', 'metro', 'metro', 'metro', 'metro', 'metro', 'metro', 'metro', 'metro', 'metro', 'metro', 'metro', 'metro', 'metro', 'metro', 'metro', 'metro', 'metro', 'metro', 'metro', 'metro', 'metro', 'metro', 'metro', 'metro', 'metro', 'metro', 'metro', 'metro', 'metro', 'metro', 'metro', 'metro', 'metro', 'metro', 'metro', 'metro', 'metro', 'metro', 'metro', 'metro', 'metro', 'metro', 'metro', 'metro', 'metro', 'metro', 'metro', 'metro', 'metro', 'metro', 'metro', 'metro', 'metro', 'metro', 'metro', 'metro', 'metro', 'metro', 'metro', 'metro', 'metro', 'metro', 'metro', 'metro', 'metro', 'metro', 'metro', 'metro', 'metro', 'metro', 'metro', 'metro', 'metro', 'metro', 'metro', 'metro', 'metro', 'metro', 'metro', 'metro', 'metro', 'metro', 'metro', 'metro', 'metro', 'metro', 'metro', 'metro', 'metro', 'metro', 'metro', 'metro', 'metro', 'metro', 'metro', 'metro', 'metro', 'metro', 'metro', 'metro', 'metro', 'metro', 'metro', 'metro', 'metro', 'metro', 'metro', 'metro', 'metro', 'metro', 'metro', 'metro', 'metro', 'metro', 'metro', 'metro', 'metro', 'metro', 'metro', 'metro', 'metro', 'metro', 'metro', 'metro', 'metro', 'metro', 'metro', 'metro_station', 'metro_station', 'metro_station', 'metro_station', 'metro_station', 'metro_station', 'metro_station', 'metro_station', 'metro_station', 'metro_station', 'metro_station', 'metro_station', 'metro_station', 'metro_station', 'metro_station', 'metro_station', 'metro_station', 'metro_station', 'metro_station', 'metro_station', 'metro_station', 'metro_station', 'metro_station', 'metro_station', 'metro_station', 'metro_station', 'metro_station', 'metro_station', 'metro_station', 'metro_station', 'metro_station', 'metro_station', 'metro_station', 'metro_station', 'metro_station', 'metro_station', 'metro_station', 'metro_station', 'metro_station', 'metro_station', 'metro_station', 'metro_station', 'metro_station', 'metro_station', 'metro_station', 'metro_station', 'metro_station', 'metro_station', 'metro_station', 'metro_station', 'metro_station', 'metro_station', 'metro_station', 'metro_station', 'metro_station', 'metro_station', 'metro_station', 'metro_station', 'metro_station', 'metro_station', 'metro_station', 'metro_station', 'metro_station', 'metro_station', 'metro_station', 'metro_station', 'metro_station', 'metro_station', 'metro_station', 'metro_station', 'metro_station', 'metro_station', 'metro_station', 'metro_station', 'metro_station', 'metro_station', 'metro_station', 'metro_station', 'metro_station', 'metro_station', 'metro_station', 'metro_station', 'metro_station', 'metro_station', 'metro_station', 'metro_station', 'metro_station', 'metro_station', 'metro_station', 'metro_station', 'metro_station', 'metro_station', 'metro_station', 'metro_station', 'metro_station', 'metro_station', 'metro_station', 'metro_station', 'metro_station', 'metro_station', 'metro_station', 'metro_station', 'metro_station', 'metro_station', 'metro_station', 'metro_station', 'metro_station', 'metro_station', 'metro_station', 'metro_station', 'metro_station', 'metro_station', 'metro_station', 'metro_station', 'metro_station', 'metro_station', 'metro_station', 'metro_station', 'metro_station', 'metro_station', 'metro_station', 'metro_station', 'metro_station', 'metro_station', 'metro_station', 'metro_station', 'metro_station', 'metro_station', 'metro_station', 'metro_station', 'metro_station', 'metro_station', 'metro_station', 'metro_station', 'metro_station', 'metro_station', 'metro_station', 'metro_station', 'metro_station', 'metro_station', 'metro_station', 'metro_station', 'metro_station', 'metro_station', 'metro_station', 'metro_station', 'metro_station', 'metro_station', 'metro_station', 'metro_station', 'metro_station', 'metro_station', 'metro_station', 'metro_station', 'metro_station', 'metro_station', 'metro_station', 'metro_station', 'metro_station', 'metro_station', 'metro_station', 'metro_station', 'metro_station', 'metro_station', 'metro_station', 'metro_station', 'metro_station', 'metro_station', 'metro_station', 'metro_station', 'metro_station', 'metro_station', 'metro_station', 'metro_station', 'metro_station', 'metro_station', 'metro_station', 'metro_station', 'metro_station', 'metro_station', 'metro_station', 'metro_station', 'metro_station', 'metro_station', 'metro_station', 'metro_station', 'metro_station', 'metro_station', 'metro_station', 'metro_station', 'metro_station', 'metro_station', 'metro_station', 'metro_station', 'metro_station', 'metro_station', 'metro_station', 'metro_station', 'metro_station', 'metro_station', 'metro_station', 'metro_station', 'metro_station', 'metro_station', 'metro_station', 'metro_station', 'metro_station', 'metro_station', 'metro_station', 'metro_station', 'metro_station', 'metro_station', 'metro_station', 'metro_station', 'metro_station', 'metro_station', 'metro_station', 'metro_station', 'metro_station', 'metro_station', 'metro_station', 'metro_station', 'metro_station', 'metro_station', 'metro_station', 'metro_station', 'metro_station', 'metro_station', 'metro_station', 'metro_station', 'metro_station', 'metro_station', 'metro_station', 'metro_station', 'metro_station', 'metro_station', 'metro_station', 'metro_station', 'metro_station', 'metro_station', 'metro_station', 'metro_station', 'metro_station', 'metro_station', 'metro_station', 'metro_station', 'metro_station', 'metro_station', 'metro_station', 'metro_station', 'metro_station', 'metro_station', 'metro_station', 'metro_station', 'metro_station', 'metro_station', 'metro_station', 'metro_station', 'metro_station', 'metro_station', 'metro_station', 'metro_station', 'metro_station', 'metro_station', 'metro_station', 'metro_station', 'metro_station', 'metro_station', 'metro_station', 'metro_station', 'metro_station', 'metro_station', 'metro_station', 'metro_station', 'metro_station', 'metro_station', 'metro_station', 'metro_station', 'metro_station', 'metro_station', 'metro_station', 'metro_station', 'metro_station', 'metro_station', 'metro_station', 'metro_station', 'metro_station', 'metro_station', 'metro_station', 'metro_station', 'metro_station', 'metro_station', 'metro_station', 'metro_station', 'metro_station', 'metro_station', 'metro_station', 'park', 'park', 'park', 'park', 'park', 'park', 'park', 'park', 'park', 'park', 'park', 'park', 'park', 'park', 'park', 'park', 'park', 'park', 'park', 'park', 'park', 'park', 'park', 'park', 'park', 'park', 'park', 'park', 'park', 'park', 'park', 'park', 'park', 'park', 'park', 'park', 'park', 'park', 'park', 'park', 'park', 'park', 'park', 'park', 'park', 'park', 'park', 'park', 'park', 'park', 'park', 'park', 'park', 'park', 'park', 'park', 'park', 'park', 'park', 'park', 'park', 'park', 'park', 'park', 'park', 'park', 'park', 'park', 'park', 'park', 'park', 'park', 'park', 'park', 'park', 'park', 'park', 'park', 'park', 'park', 'park', 'park', 'park', 'park', 'park', 'park', 'park', 'park', 'park', 'park', 'park', 'park', 'park', 'park', 'park', 'park', 'park', 'park', 'park', 'park', 'park', 'park', 'park', 'park', 'park', 'park', 'park', 'park', 'park', 'park', 'park', 'park', 'park', 'park', 'park', 'park', 'park', 'park', 'park', 'park', 'park', 'park', 'park', 'park', 'park', 'park', 'park', 'park', 'park', 'park', 'park', 'park', 'park', 'park', 'park', 'park', 'park', 'park', 'park', 'park', 'park', 'park', 'park', 'park', 'park', 'park', 'park', 'park', 'park', 'park', 'park', 'park', 'park', 'park', 'park', 'park', 'park', 'park', 'park', 'park', 'park', 'park', 'park', 'park', 'park', 'park', 'park', 'park', 'park', 'park', 'park', 'park', 'park', 'park', 'park', 'park', 'park', 'park', 'park', 'park', 'park', 'park', 'park', 'park', 'park', 'park', 'park', 'park', 'park', 'park', 'park', 'park', 'park', 'park', 'park', 'park', 'park', 'park', 'park', 'park', 'park', 'park', 'park', 'park', 'park', 'park', 'park', 'park', 'park', 'park', 'park', 'park', 'park', 'park', 'park', 'park', 'park', 'park', 'park', 'park', 'park', 'park', 'park', 'park', 'park', 'park', 'park', 'park', 'park', 'park', 'park', 'park', 'park', 'park', 'park', 'park', 'park', 'park', 'park', 'park', 'park', 'park', 'park', 'park', 'park', 'park', 'park', 'park', 'park', 'park', 'park', 'park', 'park', 'park', 'park', 'park', 'park', 'park', 'park', 'park', 'park', 'park', 'park', 'park', 'park', 'park', 'park', 'park', 'park', 'park', 'park', 'park', 'park', 'park', 'park', 'park', 'park', 'park', 'park', 'park', 'park', 'park', 'park', 'park', 'park', 'park', 'park', 'park', 'park', 'park', 'park', 'park', 'park', 'park', 'park', 'park', 'park', 'public_square', 'public_square', 'public_square', 'public_square', 'public_square', 'public_square', 'public_square', 'public_square', 'public_square', 'public_square', 'public_square', 'public_square', 'public_square', 'public_square', 'public_square', 'public_square', 'public_square', 'public_square', 'public_square', 'public_square', 'public_square', 'public_square', 'public_square', 'public_square', 'public_square', 'public_square', 'public_square', 'public_square', 'public_square', 'public_square', 'public_square', 'public_square', 'public_square', 'public_square', 'public_square', 'public_square', 'public_square', 'public_square', 'public_square', 'public_square', 'public_square', 'public_square', 'public_square', 'public_square', 'public_square', 'public_square', 'public_square', 'public_square', 'public_square', 'public_square', 'public_square', 'public_square', 'public_square', 'public_square', 'public_square', 'public_square', 'public_square', 'public_square', 'public_square', 'public_square', 'public_square', 'public_square', 'public_square', 'public_square', 'public_square', 'public_square', 'public_square', 'public_square', 'public_square', 'public_square', 'public_square', 'public_square', 'public_square', 'public_square', 'public_square', 'public_square', 'public_square', 'public_square', 'public_square', 'public_square', 'public_square', 'public_square', 'public_square', 'public_square', 'public_square', 'public_square', 'public_square', 'public_square', 'public_square', 'public_square', 'public_square', 'public_square', 'public_square', 'public_square', 'public_square', 'public_square', 'public_square', 'public_square', 'public_square', 'public_square', 'public_square', 'public_square', 'public_square', 'public_square', 'public_square', 'public_square', 'public_square', 'public_square', 'public_square', 'public_square', 'public_square', 'public_square', 'public_square', 'public_square', 'public_square', 'public_square', 'public_square', 'public_square', 'public_square', 'public_square', 'public_square', 'public_square', 'public_square', 'public_square', 'public_square', 'public_square', 'public_square', 'public_square', 'public_square', 'public_square', 'public_square', 'public_square', 'public_square', 'public_square', 'public_square', 'public_square', 'public_square', 'public_square', 'public_square', 'public_square', 'public_square', 'public_square', 'public_square', 'public_square', 'public_square', 'public_square', 'public_square', 'public_square', 'public_square', 'public_square', 'public_square', 'public_square', 'public_square', 'public_square', 'public_square', 'public_square', 'public_square', 'public_square', 'public_square', 'public_square', 'public_square', 'public_square', 'public_square', 'public_square', 'public_square', 'public_square', 'public_square', 'public_square', 'public_square', 'public_square', 'public_square', 'public_square', 'public_square', 'public_square', 'public_square', 'public_square', 'public_square', 'public_square', 'public_square', 'public_square', 'public_square', 'public_square', 'public_square', 'public_square', 'public_square', 'public_square', 'public_square', 'public_square', 'public_square', 'public_square', 'public_square', 'public_square', 'public_square', 'public_square', 'public_square', 'public_square', 'public_square', 'public_square', 'public_square', 'public_square', 'public_square', 'public_square', 'public_square', 'public_square', 'public_square', 'public_square', 'public_square', 'public_square', 'public_square', 'public_square', 'public_square', 'public_square', 'public_square', 'public_square', 'public_square', 'public_square', 'public_square', 'public_square', 'public_square', 'public_square', 'public_square', 'public_square', 'public_square', 'public_square', 'public_square', 'public_square', 'public_square', 'public_square', 'public_square', 'public_square', 'public_square', 'public_square', 'public_square', 'public_square', 'public_square', 'public_square', 'public_square', 'public_square', 'public_square', 'public_square', 'public_square', 'public_square', 'public_square', 'public_square', 'public_square', 'public_square', 'public_square', 'public_square', 'public_square', 'public_square', 'public_square', 'public_square', 'public_square', 'public_square', 'public_square', 'public_square', 'public_square', 'public_square', 'public_square', 'public_square', 'public_square', 'public_square', 'public_square', 'public_square', 'public_square', 'public_square', 'public_square', 'public_square', 'public_square', 'public_square', 'public_square', 'public_square', 'public_square', 'public_square', 'public_square', 'public_square', 'public_square', 'public_square', 'public_square', 'public_square', 'public_square', 'public_square', 'public_square', 'public_square', 'public_square', 'public_square', 'public_square', 'public_square', 'public_square', 'public_square', 'public_square', 'public_square', 'public_square', 'public_square', 'public_square', 'public_square', 'public_square', 'shopping_mall', 'shopping_mall', 'shopping_mall', 'shopping_mall', 'shopping_mall', 'shopping_mall', 'shopping_mall', 'shopping_mall', 'shopping_mall', 'shopping_mall', 'shopping_mall', 'shopping_mall', 'shopping_mall', 'shopping_mall', 'shopping_mall', 'shopping_mall', 'shopping_mall', 'shopping_mall', 'shopping_mall', 'shopping_mall', 'shopping_mall', 'shopping_mall', 'shopping_mall', 'shopping_mall', 'shopping_mall', 'shopping_mall', 'shopping_mall', 'shopping_mall', 'shopping_mall', 'shopping_mall', 'shopping_mall', 'shopping_mall', 'shopping_mall', 'shopping_mall', 'shopping_mall', 'shopping_mall', 'shopping_mall', 'shopping_mall', 'shopping_mall', 'shopping_mall', 'shopping_mall', 'shopping_mall', 'shopping_mall', 'shopping_mall', 'shopping_mall', 'shopping_mall', 'shopping_mall', 'shopping_mall', 'shopping_mall', 'shopping_mall', 'shopping_mall', 'shopping_mall', 'shopping_mall', 'shopping_mall', 'shopping_mall', 'shopping_mall', 'shopping_mall', 'shopping_mall', 'shopping_mall', 'shopping_mall', 'shopping_mall', 'shopping_mall', 'shopping_mall', 'shopping_mall', 'shopping_mall', 'shopping_mall', 'shopping_mall', 'shopping_mall', 'shopping_mall', 'shopping_mall', 'shopping_mall', 'shopping_mall', 'shopping_mall', 'shopping_mall', 'shopping_mall', 'shopping_mall', 'shopping_mall', 'shopping_mall', 'shopping_mall', 'shopping_mall', 'shopping_mall', 'shopping_mall', 'shopping_mall', 'shopping_mall', 'shopping_mall', 'shopping_mall', 'shopping_mall', 'shopping_mall', 'shopping_mall', 'shopping_mall', 'shopping_mall', 'shopping_mall', 'shopping_mall', 'shopping_mall', 'shopping_mall', 'shopping_mall', 'shopping_mall', 'shopping_mall', 'shopping_mall', 'shopping_mall', 'shopping_mall', 'shopping_mall', 'shopping_mall', 'shopping_mall', 'shopping_mall', 'shopping_mall', 'shopping_mall', 'shopping_mall', 'shopping_mall', 'shopping_mall', 'shopping_mall', 'shopping_mall', 'shopping_mall', 'shopping_mall', 'shopping_mall', 'shopping_mall', 'shopping_mall', 'shopping_mall', 'shopping_mall', 'shopping_mall', 'shopping_mall', 'shopping_mall', 'shopping_mall', 'shopping_mall', 'shopping_mall', 'shopping_mall', 'shopping_mall', 'shopping_mall', 'shopping_mall', 'shopping_mall', 'shopping_mall', 'shopping_mall', 'shopping_mall', 'shopping_mall', 'shopping_mall', 'shopping_mall', 'shopping_mall', 'shopping_mall', 'shopping_mall', 'shopping_mall', 'shopping_mall', 'shopping_mall', 'shopping_mall', 'shopping_mall', 'shopping_mall', 'shopping_mall', 'shopping_mall', 'shopping_mall', 'shopping_mall', 'shopping_mall', 'shopping_mall', 'shopping_mall', 'shopping_mall', 'shopping_mall', 'shopping_mall', 'shopping_mall', 'shopping_mall', 'shopping_mall', 'shopping_mall', 'shopping_mall', 'shopping_mall', 'shopping_mall', 'shopping_mall', 'shopping_mall', 'shopping_mall', 'shopping_mall', 'shopping_mall', 'shopping_mall', 'shopping_mall', 'shopping_mall', 'shopping_mall', 'shopping_mall', 'shopping_mall', 'shopping_mall', 'shopping_mall', 'shopping_mall', 'shopping_mall', 'shopping_mall', 'shopping_mall', 'shopping_mall', 'shopping_mall', 'shopping_mall', 'shopping_mall', 'shopping_mall', 'shopping_mall', 'shopping_mall', 'shopping_mall', 'shopping_mall', 'shopping_mall', 'shopping_mall', 'shopping_mall', 'shopping_mall', 'shopping_mall', 'shopping_mall', 'shopping_mall', 'shopping_mall', 'shopping_mall', 'shopping_mall', 'shopping_mall', 'shopping_mall', 'shopping_mall', 'shopping_mall', 'shopping_mall', 'shopping_mall', 'shopping_mall', 'shopping_mall', 'shopping_mall', 'shopping_mall', 'shopping_mall', 'shopping_mall', 'shopping_mall', 'shopping_mall', 'shopping_mall', 'shopping_mall', 'shopping_mall', 'shopping_mall', 'shopping_mall', 'shopping_mall', 'shopping_mall', 'shopping_mall', 'shopping_mall', 'shopping_mall', 'shopping_mall', 'shopping_mall', 'shopping_mall', 'shopping_mall', 'shopping_mall', 'shopping_mall', 'shopping_mall', 'shopping_mall', 'shopping_mall', 'shopping_mall', 'shopping_mall', 'shopping_mall', 'shopping_mall', 'shopping_mall', 'shopping_mall', 'shopping_mall', 'shopping_mall', 'shopping_mall', 'shopping_mall', 'shopping_mall', 'shopping_mall', 'shopping_mall', 'shopping_mall', 'shopping_mall', 'shopping_mall', 'shopping_mall', 'shopping_mall', 'shopping_mall', 'shopping_mall', 'shopping_mall', 'shopping_mall', 'shopping_mall', 'shopping_mall', 'shopping_mall', 'shopping_mall', 'shopping_mall', 'shopping_mall', 'shopping_mall', 'shopping_mall', 'shopping_mall', 'shopping_mall', 'shopping_mall', 'shopping_mall', 'shopping_mall', 'shopping_mall', 'shopping_mall', 'shopping_mall', 'shopping_mall', 'shopping_mall', 'shopping_mall', 'shopping_mall', 'shopping_mall', 'shopping_mall', 'shopping_mall', 'shopping_mall', 'shopping_mall', 'shopping_mall', 'shopping_mall', 'shopping_mall', 'shopping_mall', 'shopping_mall', 'shopping_mall', 'shopping_mall', 'shopping_mall', 'shopping_mall', 'shopping_mall', 'shopping_mall', 'shopping_mall', 'shopping_mall', 'shopping_mall', 'shopping_mall', 'shopping_mall', 'shopping_mall', 'shopping_mall', 'shopping_mall', 'street_pedestrian', 'street_pedestrian', 'street_pedestrian', 'street_pedestrian', 'street_pedestrian', 'street_pedestrian', 'street_pedestrian', 'street_pedestrian', 'street_pedestrian', 'street_pedestrian', 'street_pedestrian', 'street_pedestrian', 'street_pedestrian', 'street_pedestrian', 'street_pedestrian', 'street_pedestrian', 'street_pedestrian', 'street_pedestrian', 'street_pedestrian', 'street_pedestrian', 'street_pedestrian', 'street_pedestrian', 'street_pedestrian', 'street_pedestrian', 'street_pedestrian', 'street_pedestrian', 'street_pedestrian', 'street_pedestrian', 'street_pedestrian', 'street_pedestrian', 'street_pedestrian', 'street_pedestrian', 'street_pedestrian', 'street_pedestrian', 'street_pedestrian', 'street_pedestrian', 'street_pedestrian', 'street_pedestrian', 'street_pedestrian', 'street_pedestrian', 'street_pedestrian', 'street_pedestrian', 'street_pedestrian', 'street_pedestrian', 'street_pedestrian', 'street_pedestrian', 'street_pedestrian', 'street_pedestrian', 'street_pedestrian', 'street_pedestrian', 'street_pedestrian', 'street_pedestrian', 'street_pedestrian', 'street_pedestrian', 'street_pedestrian', 'street_pedestrian', 'street_pedestrian', 'street_pedestrian', 'street_pedestrian', 'street_pedestrian', 'street_pedestrian', 'street_pedestrian', 'street_pedestrian', 'street_pedestrian', 'street_pedestrian', 'street_pedestrian', 'street_pedestrian', 'street_pedestrian', 'street_pedestrian', 'street_pedestrian', 'street_pedestrian', 'street_pedestrian', 'street_pedestrian', 'street_pedestrian', 'street_pedestrian', 'street_pedestrian', 'street_pedestrian', 'street_pedestrian', 'street_pedestrian', 'street_pedestrian', 'street_pedestrian', 'street_pedestrian', 'street_pedestrian', 'street_pedestrian', 'street_pedestrian', 'street_pedestrian', 'street_pedestrian', 'street_pedestrian', 'street_pedestrian', 'street_pedestrian', 'street_pedestrian', 'street_pedestrian', 'street_pedestrian', 'street_pedestrian', 'street_pedestrian', 'street_pedestrian', 'street_pedestrian', 'street_pedestrian', 'street_pedestrian', 'street_pedestrian', 'street_pedestrian', 'street_pedestrian', 'street_pedestrian', 'street_pedestrian', 'street_pedestrian', 'street_pedestrian', 'street_pedestrian', 'street_pedestrian', 'street_pedestrian', 'street_pedestrian', 'street_pedestrian', 'street_pedestrian', 'street_pedestrian', 'street_pedestrian', 'street_pedestrian', 'street_pedestrian', 'street_pedestrian', 'street_pedestrian', 'street_pedestrian', 'street_pedestrian', 'street_pedestrian', 'street_pedestrian', 'street_pedestrian', 'street_pedestrian', 'street_pedestrian', 'street_pedestrian', 'street_pedestrian', 'street_pedestrian', 'street_pedestrian', 'street_pedestrian', 'street_pedestrian', 'street_pedestrian', 'street_pedestrian', 'street_pedestrian', 'street_pedestrian', 'street_pedestrian', 'street_pedestrian', 'street_pedestrian', 'street_pedestrian', 'street_pedestrian', 'street_pedestrian', 'street_pedestrian', 'street_pedestrian', 'street_pedestrian', 'street_pedestrian', 'street_pedestrian', 'street_pedestrian', 'street_pedestrian', 'street_pedestrian', 'street_pedestrian', 'street_pedestrian', 'street_pedestrian', 'street_pedestrian', 'street_pedestrian', 'street_pedestrian', 'street_pedestrian', 'street_pedestrian', 'street_pedestrian', 'street_pedestrian', 'street_pedestrian', 'street_pedestrian', 'street_pedestrian', 'street_pedestrian', 'street_pedestrian', 'street_pedestrian', 'street_pedestrian', 'street_pedestrian', 'street_pedestrian', 'street_pedestrian', 'street_pedestrian', 'street_pedestrian', 'street_pedestrian', 'street_pedestrian', 'street_pedestrian', 'street_pedestrian', 'street_pedestrian', 'street_pedestrian', 'street_pedestrian', 'street_pedestrian', 'street_pedestrian', 'street_pedestrian', 'street_pedestrian', 'street_pedestrian', 'street_pedestrian', 'street_pedestrian', 'street_pedestrian', 'street_pedestrian', 'street_pedestrian', 'street_pedestrian', 'street_pedestrian', 'street_pedestrian', 'street_pedestrian', 'street_pedestrian', 'street_pedestrian', 'street_pedestrian', 'street_pedestrian', 'street_pedestrian', 'street_pedestrian', 'street_pedestrian', 'street_pedestrian', 'street_pedestrian', 'street_pedestrian', 'street_pedestrian', 'street_pedestrian', 'street_pedestrian', 'street_pedestrian', 'street_pedestrian', 'street_pedestrian', 'street_pedestrian', 'street_pedestrian', 'street_pedestrian', 'street_pedestrian', 'street_pedestrian', 'street_pedestrian', 'street_pedestrian', 'street_pedestrian', 'street_pedestrian', 'street_pedestrian', 'street_pedestrian', 'street_pedestrian', 'street_pedestrian', 'street_pedestrian', 'street_pedestrian', 'street_pedestrian', 'street_pedestrian', 'street_pedestrian', 'street_pedestrian', 'street_pedestrian', 'street_pedestrian', 'street_pedestrian', 'street_pedestrian', 'street_pedestrian', 'street_pedestrian', 'street_pedestrian', 'street_pedestrian', 'street_pedestrian', 'street_pedestrian', 'street_pedestrian', 'street_pedestrian', 'street_pedestrian', 'street_pedestrian', 'street_pedestrian', 'street_pedestrian', 'street_pedestrian', 'street_pedestrian', 'street_pedestrian', 'street_pedestrian', 'street_pedestrian', 'street_pedestrian', 'street_pedestrian', 'street_pedestrian', 'street_pedestrian', 'street_pedestrian', 'street_pedestrian', 'street_pedestrian', 'street_pedestrian', 'street_pedestrian', 'street_pedestrian', 'street_pedestrian', 'street_pedestrian', 'street_pedestrian', 'street_pedestrian', 'street_pedestrian', 'street_pedestrian', 'street_pedestrian', 'street_pedestrian', 'street_pedestrian', 'street_pedestrian', 'street_pedestrian', 'street_pedestrian', 'street_pedestrian', 'street_pedestrian', 'street_pedestrian', 'street_pedestrian', 'street_pedestrian', 'street_pedestrian', 'street_pedestrian', 'street_pedestrian', 'street_pedestrian', 'street_pedestrian', 'street_pedestrian', 'street_pedestrian', 'street_pedestrian', 'street_pedestrian', 'street_pedestrian', 'street_pedestrian', 'street_pedestrian', 'street_pedestrian', 'street_pedestrian', 'street_pedestrian', 'street_pedestrian', 'street_pedestrian', 'street_pedestrian', 'street_pedestrian', 'street_pedestrian', 'street_pedestrian', 'street_pedestrian', 'street_traffic', 'street_traffic', 'street_traffic', 'street_traffic', 'street_traffic', 'street_traffic', 'street_traffic', 'street_traffic', 'street_traffic', 'street_traffic', 'street_traffic', 'street_traffic', 'street_traffic', 'street_traffic', 'street_traffic', 'street_traffic', 'street_traffic', 'street_traffic', 'street_traffic', 'street_traffic', 'street_traffic', 'street_traffic', 'street_traffic', 'street_traffic', 'street_traffic', 'street_traffic', 'street_traffic', 'street_traffic', 'street_traffic', 'street_traffic', 'street_traffic', 'street_traffic', 'street_traffic', 'street_traffic', 'street_traffic', 'street_traffic', 'street_traffic', 'street_traffic', 'street_traffic', 'street_traffic', 'street_traffic', 'street_traffic', 'street_traffic', 'street_traffic', 'street_traffic', 'street_traffic', 'street_traffic', 'street_traffic', 'street_traffic', 'street_traffic', 'street_traffic', 'street_traffic', 'street_traffic', 'street_traffic', 'street_traffic', 'street_traffic', 'street_traffic', 'street_traffic', 'street_traffic', 'street_traffic', 'street_traffic', 'street_traffic', 'street_traffic', 'street_traffic', 'street_traffic', 'street_traffic', 'street_traffic', 'street_traffic', 'street_traffic', 'street_traffic', 'street_traffic', 'street_traffic', 'street_traffic', 'street_traffic', 'street_traffic', 'street_traffic', 'street_traffic', 'street_traffic', 'street_traffic', 'street_traffic', 'street_traffic', 'street_traffic', 'street_traffic', 'street_traffic', 'street_traffic', 'street_traffic', 'street_traffic', 'street_traffic', 'street_traffic', 'street_traffic', 'street_traffic', 'street_traffic', 'street_traffic', 'street_traffic', 'street_traffic', 'street_traffic', 'street_traffic', 'street_traffic', 'street_traffic', 'street_traffic', 'street_traffic', 'street_traffic', 'street_traffic', 'street_traffic', 'street_traffic', 'street_traffic', 'street_traffic', 'street_traffic', 'street_traffic', 'street_traffic', 'street_traffic', 'street_traffic', 'street_traffic', 'street_traffic', 'street_traffic', 'street_traffic', 'street_traffic', 'street_traffic', 'street_traffic', 'street_traffic', 'street_traffic', 'street_traffic', 'street_traffic', 'street_traffic', 'street_traffic', 'street_traffic', 'street_traffic', 'street_traffic', 'street_traffic', 'street_traffic', 'street_traffic', 'street_traffic', 'street_traffic', 'street_traffic', 'street_traffic', 'street_traffic', 'street_traffic', 'street_traffic', 'street_traffic', 'street_traffic', 'street_traffic', 'street_traffic', 'street_traffic', 'street_traffic', 'street_traffic', 'street_traffic', 'street_traffic', 'street_traffic', 'street_traffic', 'street_traffic', 'street_traffic', 'street_traffic', 'street_traffic', 'street_traffic', 'street_traffic', 'street_traffic', 'street_traffic', 'street_traffic', 'street_traffic', 'street_traffic', 'street_traffic', 'street_traffic', 'street_traffic', 'street_traffic', 'street_traffic', 'street_traffic', 'street_traffic', 'street_traffic', 'street_traffic', 'street_traffic', 'street_traffic', 'street_traffic', 'street_traffic', 'street_traffic', 'street_traffic', 'street_traffic', 'street_traffic', 'street_traffic', 'street_traffic', 'street_traffic', 'street_traffic', 'street_traffic', 'street_traffic', 'street_traffic', 'street_traffic', 'street_traffic', 'street_traffic', 'street_traffic', 'street_traffic', 'street_traffic', 'street_traffic', 'street_traffic', 'street_traffic', 'street_traffic', 'street_traffic', 'street_traffic', 'street_traffic', 'street_traffic', 'street_traffic', 'street_traffic', 'street_traffic', 'street_traffic', 'street_traffic', 'street_traffic', 'street_traffic', 'street_traffic', 'street_traffic', 'street_traffic', 'street_traffic', 'street_traffic', 'street_traffic', 'street_traffic', 'street_traffic', 'street_traffic', 'street_traffic', 'street_traffic', 'street_traffic', 'street_traffic', 'street_traffic', 'street_traffic', 'street_traffic', 'street_traffic', 'street_traffic', 'street_traffic', 'street_traffic', 'street_traffic', 'street_traffic', 'street_traffic', 'street_traffic', 'street_traffic', 'street_traffic', 'street_traffic', 'street_traffic', 'street_traffic', 'street_traffic', 'street_traffic', 'street_traffic', 'street_traffic', 'street_traffic', 'street_traffic', 'street_traffic', 'street_traffic', 'street_traffic', 'street_traffic', 'street_traffic', 'street_traffic', 'street_traffic', 'street_traffic', 'street_traffic', 'street_traffic', 'street_traffic', 'street_traffic', 'street_traffic', 'street_traffic', 'street_traffic', 'street_traffic', 'street_traffic', 'street_traffic', 'street_traffic', 'street_traffic', 'street_traffic', 'street_traffic', 'street_traffic', 'street_traffic', 'street_traffic', 'street_traffic', 'street_traffic', 'street_traffic', 'street_traffic', 'street_traffic', 'street_traffic', 'street_traffic', 'street_traffic', 'street_traffic', 'street_traffic', 'street_traffic', 'street_traffic', 'street_traffic', 'street_traffic', 'street_traffic', 'street_traffic', 'street_traffic', 'street_traffic', 'street_traffic', 'street_traffic', 'street_traffic', 'street_traffic', 'street_traffic', 'street_traffic', 'street_traffic', 'street_traffic', 'street_traffic', 'street_traffic', 'street_traffic', 'street_traffic', 'street_traffic', 'street_traffic', 'tram', 'tram', 'tram', 'tram', 'tram', 'tram', 'tram', 'tram', 'tram', 'tram', 'tram', 'tram', 'tram', 'tram', 'tram', 'tram', 'tram', 'tram', 'tram', 'tram', 'tram', 'tram', 'tram', 'tram', 'tram', 'tram', 'tram', 'tram', 'tram', 'tram', 'tram', 'tram', 'tram', 'tram', 'tram', 'tram', 'tram', 'tram', 'tram', 'tram', 'tram', 'tram', 'tram', 'tram', 'tram', 'tram', 'tram', 'tram', 'tram', 'tram', 'tram', 'tram', 'tram', 'tram', 'tram', 'tram', 'tram', 'tram', 'tram', 'tram', 'tram', 'tram', 'tram', 'tram', 'tram', 'tram', 'tram', 'tram', 'tram', 'tram', 'tram', 'tram', 'tram', 'tram', 'tram', 'tram', 'tram', 'tram', 'tram', 'tram', 'tram', 'tram', 'tram', 'tram', 'tram', 'tram', 'tram', 'tram', 'tram', 'tram', 'tram', 'tram', 'tram', 'tram', 'tram', 'tram', 'tram', 'tram', 'tram', 'tram', 'tram', 'tram', 'tram', 'tram', 'tram', 'tram', 'tram', 'tram', 'tram', 'tram', 'tram', 'tram', 'tram', 'tram', 'tram', 'tram', 'tram', 'tram', 'tram', 'tram', 'tram', 'tram', 'tram', 'tram', 'tram', 'tram', 'tram', 'tram', 'tram', 'tram', 'tram', 'tram', 'tram', 'tram', 'tram', 'tram', 'tram', 'tram', 'tram', 'tram', 'tram', 'tram', 'tram', 'tram', 'tram', 'tram', 'tram', 'tram', 'tram', 'tram', 'tram', 'tram', 'tram', 'tram', 'tram', 'tram', 'tram', 'tram', 'tram', 'tram', 'tram', 'tram', 'tram', 'tram', 'tram', 'tram', 'tram', 'tram', 'tram', 'tram', 'tram', 'tram', 'tram', 'tram', 'tram', 'tram', 'tram', 'tram', 'tram', 'tram', 'tram', 'tram', 'tram', 'tram', 'tram', 'tram', 'tram', 'tram', 'tram', 'tram', 'tram', 'tram', 'tram', 'tram', 'tram', 'tram', 'tram', 'tram', 'tram', 'tram', 'tram', 'tram', 'tram', 'tram', 'tram', 'tram', 'tram', 'tram', 'tram', 'tram', 'tram', 'tram', 'tram', 'tram', 'tram', 'tram', 'tram', 'tram', 'tram', 'tram', 'tram', 'tram', 'tram', 'tram', 'tram', 'tram', 'tram', 'tram', 'tram', 'tram', 'tram', 'tram', 'tram', 'tram', 'tram', 'tram', 'tram', 'tram', 'tram', 'tram', 'tram', 'tram', 'tram', 'tram', 'tram', 'tram', 'tram', 'tram', 'tram', 'tram', 'tram', 'tram', 'tram', 'tram', 'tram', 'tram', 'tram', 'tram', 'tram', 'tram', 'tram', 'tram', 'tram', 'tram', 'tram', 'tram', 'tram', 'tram', 'tram', 'tram', 'tram', 'tram', 'tram', 'tram', 'tram', 'tram', 'tram', 'tram', 'tram', 'tram', 'tram', 'tram', 'tram', 'tram', 'tram', 'tram', 'tram', 'tram', 'tram', 'tram', 'tram', 'tram', 'tram', 'tram', 'tram', 'tram']\n"
     ]
    },
    {
     "data": {
      "text/plain": [
       "array([[1., 0., 0., ..., 0., 0., 0.],\n",
       "       [1., 0., 0., ..., 0., 0., 0.],\n",
       "       [1., 0., 0., ..., 0., 0., 0.],\n",
       "       ...,\n",
       "       [0., 0., 0., ..., 0., 0., 1.],\n",
       "       [0., 0., 0., ..., 0., 0., 1.],\n",
       "       [0., 0., 0., ..., 0., 0., 1.]])"
      ]
     },
     "execution_count": 10,
     "metadata": {},
     "output_type": "execute_result"
    }
   ],
   "source": [
    "y=data[run_mode].tolist()\n",
    "print(y)\n",
    "label_array_train = np.array(y).reshape(-1, 1)\n",
    "encoder=OneHotEncoder()\n",
    "y_one_hot_encoded = encoder.fit_transform(label_array_train).toarray()\n",
    "# print(len(y_one_hot_encoded))\n",
    "y_one_hot_encoded"
   ]
  },
  {
   "cell_type": "code",
   "execution_count": 11,
   "metadata": {},
   "outputs": [],
   "source": [
    "label1_data = data[data[run_mode] == label1]\n",
    "label1_data = label1_data.reset_index(drop=True)\n",
    "col_name=f'embedding{Block_number}'\n",
    "label1_data_x=train_ready(label1_data,col_name)\n",
    "label1_data_x=np.array(label1_data_x)\n",
    "label1_data_x = model(torch.from_numpy(label1_data_x).to(torch.float32))"
   ]
  },
  {
   "cell_type": "code",
   "execution_count": 12,
   "metadata": {},
   "outputs": [],
   "source": [
    "label1_data_x = label1_data_x.detach().numpy()"
   ]
  },
  {
   "cell_type": "code",
   "execution_count": 13,
   "metadata": {},
   "outputs": [
    {
     "data": {
      "text/plain": [
       "array([[0.        , 0.        , 0.        , ..., 1.5794207 , 0.        ,\n",
       "        1.6620086 ],\n",
       "       [0.        , 0.        , 0.        , ..., 1.9940702 , 0.        ,\n",
       "        1.15682   ],\n",
       "       [0.        , 0.        , 0.08035132, ..., 2.381912  , 0.        ,\n",
       "        1.5422411 ],\n",
       "       ...,\n",
       "       [0.        , 0.        , 0.        , ..., 3.2556267 , 0.        ,\n",
       "        1.6121324 ],\n",
       "       [0.        , 0.03558599, 0.        , ..., 0.9390175 , 0.        ,\n",
       "        0.6451496 ],\n",
       "       [0.        , 0.        , 0.        , ..., 2.7748718 , 0.        ,\n",
       "        1.3679783 ]], dtype=float32)"
      ]
     },
     "execution_count": 13,
     "metadata": {},
     "output_type": "execute_result"
    }
   ],
   "source": [
    "label1_data_x"
   ]
  },
  {
   "cell_type": "code",
   "execution_count": 14,
   "metadata": {},
   "outputs": [],
   "source": [
    "label2_data = data[data[run_mode] == label2]\n",
    "label2_data = label2_data.reset_index(drop=True)\n",
    "col_name=f'embedding{Block_number}'\n",
    "label2_data_x=train_ready(label2_data,col_name)\n",
    "label2_data_x=np.array(label2_data_x)\n",
    "label2_data_x = model(torch.from_numpy(label2_data_x).to(torch.float32))"
   ]
  },
  {
   "cell_type": "code",
   "execution_count": 15,
   "metadata": {},
   "outputs": [],
   "source": [
    "label2_data_x = label2_data_x.detach().numpy()"
   ]
  },
  {
   "cell_type": "code",
   "execution_count": 16,
   "metadata": {},
   "outputs": [
    {
     "data": {
      "text/plain": [
       "array([[0.        , 1.5858454 , 1.1234286 , ..., 0.        , 0.50905025,\n",
       "        0.05306254],\n",
       "       [0.        , 2.0254707 , 0.60211486, ..., 0.        , 0.51259387,\n",
       "        0.33615017],\n",
       "       [0.        , 2.244504  , 0.        , ..., 0.        , 1.0178747 ,\n",
       "        0.10888111],\n",
       "       ...,\n",
       "       [0.        , 0.27128026, 0.35410696, ..., 0.        , 0.575938  ,\n",
       "        0.17428999],\n",
       "       [0.        , 0.        , 1.0933954 , ..., 0.        , 0.8723516 ,\n",
       "        0.18827151],\n",
       "       [0.        , 0.        , 1.03181   , ..., 0.33720398, 0.7746265 ,\n",
       "        0.18207403]], dtype=float32)"
      ]
     },
     "execution_count": 16,
     "metadata": {},
     "output_type": "execute_result"
    }
   ],
   "source": [
    "label2_data_x"
   ]
  },
  {
   "cell_type": "code",
   "execution_count": 17,
   "metadata": {},
   "outputs": [],
   "source": [
    "label3_data = data[data[run_mode] == label3]\n",
    "label3_data = label3_data.reset_index(drop=True)\n",
    "col_name=f'embedding{Block_number}'\n",
    "label3_data_x=train_ready(label3_data,col_name)\n",
    "label3_data_x=np.array(label3_data_x)\n",
    "label3_data_x = model(torch.from_numpy(label3_data_x).to(torch.float32))"
   ]
  },
  {
   "cell_type": "code",
   "execution_count": 18,
   "metadata": {},
   "outputs": [],
   "source": [
    "label3_data_x = label3_data_x.detach().numpy()"
   ]
  },
  {
   "cell_type": "code",
   "execution_count": 19,
   "metadata": {},
   "outputs": [
    {
     "data": {
      "text/plain": [
       "array([[0.        , 0.        , 1.913518  , ..., 0.        , 0.        ,\n",
       "        0.        ],\n",
       "       [0.        , 0.05193908, 1.4564941 , ..., 0.        , 0.        ,\n",
       "        0.12995778],\n",
       "       [0.        , 0.        , 1.2202978 , ..., 1.0363863 , 0.        ,\n",
       "        0.655668  ],\n",
       "       ...,\n",
       "       [0.        , 0.        , 2.1321976 , ..., 0.        , 0.        ,\n",
       "        0.5157989 ],\n",
       "       [0.        , 0.        , 2.539333  , ..., 0.        , 0.        ,\n",
       "        0.        ],\n",
       "       [0.        , 0.        , 2.2548926 , ..., 0.        , 0.17231773,\n",
       "        0.        ]], dtype=float32)"
      ]
     },
     "execution_count": 19,
     "metadata": {},
     "output_type": "execute_result"
    }
   ],
   "source": [
    "label3_data_x"
   ]
  },
  {
   "cell_type": "code",
   "execution_count": 20,
   "metadata": {},
   "outputs": [],
   "source": [
    "combined_data = np.vstack((label1_data_x, label2_data_x, label3_data_x))"
   ]
  },
  {
   "cell_type": "code",
   "execution_count": 21,
   "metadata": {},
   "outputs": [],
   "source": [
    "pca = PCA(n_components=2)\n",
    "combined_data_pca = pca.fit_transform(combined_data)"
   ]
  },
  {
   "cell_type": "code",
   "execution_count": 22,
   "metadata": {},
   "outputs": [
    {
     "data": {
      "text/plain": [
       "(890, 2)"
      ]
     },
     "execution_count": 22,
     "metadata": {},
     "output_type": "execute_result"
    }
   ],
   "source": [
    "combined_data_pca.shape"
   ]
  },
  {
   "cell_type": "code",
   "execution_count": 23,
   "metadata": {},
   "outputs": [
    {
     "data": {
      "image/png": "[encoded data removed]",
      "text/plain": [
       "<Figure size 640x480 with 1 Axes>"
      ]
     },
     "metadata": {},
     "output_type": "display_data"
    }
   ],
   "source": [
    "label1_final = combined_data_pca[0:len(label1_data_x)]\n",
    "label2_final = combined_data_pca[len(label1_data_x):len(label1_data_x)+len(label2_data_x)]\n",
    "label3_final = combined_data_pca[len(label1_data_x)+len(label2_data_x):]\n",
    "\n",
    "# Plot the points with different colors\n",
    "plt.scatter(label1_final[:, 0], label1_final[:, 1], color='red', label=label1)\n",
    "plt.scatter(label2_final[:, 0], label2_final[:, 1], color='yellow', label=label2)\n",
    "plt.scatter(label3_final[:, 0], label3_final[:, 1], color='green', label=label3)\n",
    "\n",
    "plt.xlabel('X')\n",
    "plt.ylabel('Y')\n",
    "plt.title('Points Plot')\n",
    "plt.legend()\n",
    "plt.show()"
   ]
  },
  {
   "cell_type": "code",
   "execution_count": null,
   "metadata": {},
   "outputs": [],
   "source": []
  }
 ],
 "metadata": {
  "kernelspec": {
   "display_name": "base",
   "language": "python",
   "name": "python3"
  },
  "language_info": {
   "codemirror_mode": {
    "name": "ipython",
    "version": 3
   },
   "file_extension": ".py",
   "mimetype": "text/x-python",
   "name": "python",
   "nbconvert_exporter": "python",
   "pygments_lexer": "ipython3",
   "version": "3.10.8"
  }
 },
 "nbformat": 4,
 "nbformat_minor": 2
}
